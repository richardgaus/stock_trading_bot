{
 "cells": [
  {
   "cell_type": "code",
   "execution_count": 3,
   "metadata": {},
   "outputs": [],
   "source": [
    "from sklearn.datasets import make_regression\n",
    "from sklearn.feature_selection import SelectKBest\n",
    "from sklearn.feature_selection import f_regression\n",
    "from sklearn.compose import ColumnTransformer\n",
    "import datetime\n",
    "\n"
   ]
  },
  {
   "cell_type": "code",
   "execution_count": 9,
   "metadata": {},
   "outputs": [],
   "source": [
    "# read in data\n",
    "import pandas as pd\n",
    "data = pd.read_csv('../data/energy/energydata_complete.csv')\n",
    "data['date'] = data['date'].apply(lambda d : datetime.datetime.strptime(d, '%Y-%m-%d %H:%M:%S').timestamp())\n",
    "\n",
    "input_data = data.drop(['Appliances'], axis=1)\n",
    "rows = input_data.values\n",
    "labels = input_data.columns\n"
   ]
  },
  {
   "cell_type": "code",
   "execution_count": 10,
   "metadata": {},
   "outputs": [
    {
     "name": "stdout",
     "output_type": "stream",
     "text": [
      "(19735, 10)\n"
     ]
    }
   ],
   "source": [
    "# define feature selection\n",
    "fs = SelectKBest(score_func=f_regression, k=10)\n",
    "\n",
    "# apply feature selection\n",
    "X_selected = fs.fit_transform(rows, data['Appliances'])\n",
    "print(X_selected.shape)"
   ]
  },
  {
   "cell_type": "code",
   "execution_count": 14,
   "metadata": {},
   "outputs": [
    {
     "data": {
      "text/plain": [
       "array([[30.        , 47.59666667, 19.2       , ...,  6.6       ,\n",
       "        92.        ,  7.        ],\n",
       "       [30.        , 46.69333333, 19.2       , ...,  6.48333333,\n",
       "        92.        ,  6.66666667],\n",
       "       [30.        , 46.3       , 19.2       , ...,  6.36666667,\n",
       "        92.        ,  6.33333333],\n",
       "       ...,\n",
       "       [10.        , 46.59666667, 25.62857143, ..., 22.46666667,\n",
       "        56.33333333,  3.66666667],\n",
       "       [10.        , 46.99      , 25.414     , ..., 22.33333333,\n",
       "        56.66666667,  3.83333333],\n",
       "       [10.        , 46.6       , 25.26428571, ..., 22.2       ,\n",
       "        57.        ,  4.        ]])"
      ]
     },
     "execution_count": 14,
     "metadata": {},
     "output_type": "execute_result"
    }
   ],
   "source": [
    "X_selected"
   ]
  }
 ],
 "metadata": {
  "kernelspec": {
   "display_name": "Python 3",
   "language": "python",
   "name": "python3"
  },
  "language_info": {
   "codemirror_mode": {
    "name": "ipython",
    "version": 3
   },
   "file_extension": ".py",
   "mimetype": "text/x-python",
   "name": "python",
   "nbconvert_exporter": "python",
   "pygments_lexer": "ipython3",
   "version": "3.9.4"
  }
 },
 "nbformat": 4,
 "nbformat_minor": 1
}
