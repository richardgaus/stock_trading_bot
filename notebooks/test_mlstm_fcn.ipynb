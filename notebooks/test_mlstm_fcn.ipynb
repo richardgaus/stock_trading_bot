{
 "cells": [
  {
   "cell_type": "code",
   "execution_count": 1,
   "metadata": {},
   "outputs": [],
   "source": [
    "import pandas as pd\n",
    "import numpy as np\n",
    "\n",
    "from definitions import REPO_ROOT\n",
    "\n",
    "from src.models.mlstm_fcn import generate_model\n",
    "from src.models.utils import train_model\n",
    "from src.data.utils import train_validation_test_split, make_Xy\n",
    "\n",
    "stock_data = pd.read_csv(REPO_ROOT / 'data' / 'processed' / 'stock_data.csv')"
   ]
  },
  {
   "cell_type": "code",
   "execution_count": 2,
   "metadata": {},
   "outputs": [],
   "source": [
    "X_train, y_train = make_Xy(\n",
    "    timeseries=stock_data,\n",
    "    features=['open', 'high', 'low', 'close', 'volume'],\n",
    "    outputs=['high', 'low']\n",
    ")"
   ]
  },
  {
   "cell_type": "code",
   "execution_count": 3,
   "metadata": {},
   "outputs": [],
   "source": [
    "# Relative increase from close\n",
    "for i in range(X_train.shape[0]):\n",
    "    close = X_train[i][3, -1]\n",
    "    y_train[i] = (y_train[i] - close) / close"
   ]
  },
  {
   "cell_type": "code",
   "execution_count": 4,
   "metadata": {},
   "outputs": [],
   "source": [
    "# Standardize price data\n",
    "X_train_tf = (X_train - np.mean(X_train, axis=2).reshape((888, 5, 1))) / np.std(X_train, axis=2).reshape((888, 5, 1))"
   ]
  },
  {
   "cell_type": "code",
   "execution_count": null,
   "metadata": {},
   "outputs": [
    {
     "name": "stdout",
     "output_type": "stream",
     "text": [
      "Model: \"model\"\n",
      "__________________________________________________________________________________________________\n",
      "Layer (type)                    Output Shape         Param #     Connected to                     \n",
      "==================================================================================================\n",
      "input_1 (InputLayer)            [(None, 5, 365)]     0                                            \n",
      "__________________________________________________________________________________________________\n",
      "permute (Permute)               (None, 365, 5)       0           input_1[0][0]                    \n",
      "__________________________________________________________________________________________________\n",
      "conv1d (Conv1D)                 (None, 365, 128)     5248        permute[0][0]                    \n",
      "__________________________________________________________________________________________________\n",
      "batch_normalization (BatchNorma (None, 365, 128)     512         conv1d[0][0]                     \n",
      "__________________________________________________________________________________________________\n",
      "activation (Activation)         (None, 365, 128)     0           batch_normalization[0][0]        \n",
      "__________________________________________________________________________________________________\n",
      "global_average_pooling1d (Globa (None, 128)          0           activation[0][0]                 \n",
      "__________________________________________________________________________________________________\n",
      "reshape (Reshape)               (None, 1, 128)       0           global_average_pooling1d[0][0]   \n",
      "__________________________________________________________________________________________________\n",
      "dense (Dense)                   (None, 1, 8)         1024        reshape[0][0]                    \n",
      "__________________________________________________________________________________________________\n",
      "dense_1 (Dense)                 (None, 1, 128)       1024        dense[0][0]                      \n",
      "__________________________________________________________________________________________________\n",
      "multiply (Multiply)             (None, 365, 128)     0           activation[0][0]                 \n",
      "                                                                 dense_1[0][0]                    \n",
      "__________________________________________________________________________________________________\n",
      "conv1d_1 (Conv1D)               (None, 365, 256)     164096      multiply[0][0]                   \n",
      "__________________________________________________________________________________________________\n",
      "batch_normalization_1 (BatchNor (None, 365, 256)     1024        conv1d_1[0][0]                   \n",
      "__________________________________________________________________________________________________\n",
      "activation_1 (Activation)       (None, 365, 256)     0           batch_normalization_1[0][0]      \n",
      "__________________________________________________________________________________________________\n",
      "global_average_pooling1d_1 (Glo (None, 256)          0           activation_1[0][0]               \n",
      "__________________________________________________________________________________________________\n",
      "reshape_1 (Reshape)             (None, 1, 256)       0           global_average_pooling1d_1[0][0] \n",
      "__________________________________________________________________________________________________\n",
      "dense_2 (Dense)                 (None, 1, 16)        4096        reshape_1[0][0]                  \n",
      "__________________________________________________________________________________________________\n",
      "dense_3 (Dense)                 (None, 1, 256)       4096        dense_2[0][0]                    \n",
      "__________________________________________________________________________________________________\n",
      "multiply_1 (Multiply)           (None, 365, 256)     0           activation_1[0][0]               \n",
      "                                                                 dense_3[0][0]                    \n",
      "__________________________________________________________________________________________________\n",
      "conv1d_2 (Conv1D)               (None, 365, 128)     98432       multiply_1[0][0]                 \n",
      "__________________________________________________________________________________________________\n",
      "masking (Masking)               (None, 5, 365)       0           input_1[0][0]                    \n",
      "__________________________________________________________________________________________________\n",
      "batch_normalization_2 (BatchNor (None, 365, 128)     512         conv1d_2[0][0]                   \n",
      "__________________________________________________________________________________________________\n",
      "lstm (LSTM)                     (None, 8)            11968       masking[0][0]                    \n",
      "__________________________________________________________________________________________________\n",
      "activation_2 (Activation)       (None, 365, 128)     0           batch_normalization_2[0][0]      \n",
      "__________________________________________________________________________________________________\n",
      "dropout (Dropout)               (None, 8)            0           lstm[0][0]                       \n",
      "__________________________________________________________________________________________________\n",
      "global_average_pooling1d_2 (Glo (None, 128)          0           activation_2[0][0]               \n",
      "__________________________________________________________________________________________________\n",
      "concatenate (Concatenate)       (None, 136)          0           dropout[0][0]                    \n",
      "                                                                 global_average_pooling1d_2[0][0] \n",
      "__________________________________________________________________________________________________\n",
      "dense_4 (Dense)                 (None, 6)            822         concatenate[0][0]                \n",
      "==================================================================================================\n",
      "Total params: 292,854\n",
      "Trainable params: 291,830\n",
      "Non-trainable params: 1,024\n",
      "__________________________________________________________________________________________________\n"
     ]
    },
    {
     "name": "stderr",
     "output_type": "stream",
     "text": [
      "c:\\users\\richard\\desktop\\codingprojects\\stocktradingbot\\stb\\lib\\site-packages\\tensorflow\\python\\keras\\optimizer_v2\\optimizer_v2.py:374: UserWarning: The `lr` argument is deprecated, use `learning_rate` instead.\n",
      "  warnings.warn(\n",
      "c:\\users\\richard\\desktop\\codingprojects\\stocktradingbot\\stb\\lib\\site-packages\\keras\\utils\\generic_utils.py:494: CustomMaskWarning: Custom mask layers require a config and must override get_config. When loading, the custom mask layer must be passed to the custom_objects argument.\n",
      "  warnings.warn('Custom mask layers require a config and must override '\n"
     ]
    },
    {
     "name": "stdout",
     "output_type": "stream",
     "text": [
      "Epoch 1/500\n"
     ]
    }
   ],
   "source": [
    "model = generate_model(\n",
    "    num_features=5\n",
    ")\n",
    "train_model(\n",
    "    model,\n",
    "    X_train,\n",
    "    y_train,\n",
    "    None,\n",
    "    None,\n",
    "    REPO_ROOT / 'tensorboard_logs'\n",
    ")"
   ]
  },
  {
   "cell_type": "code",
   "execution_count": 2,
   "metadata": {},
   "outputs": [],
   "source": [
    "from numpy import random\n",
    "\n",
    "ratio = (0.7, 0.15, 0.15)\n",
    "assets = []\n",
    "for i in range(10):\n",
    "    assets.append(np.array(range(int(np.random.normal(1000, 200)))))\n",
    "\n",
    "n = len(assets)\n",
    "distribute = []\n",
    "whole = 1.0\n",
    "for i in range(n):\n",
    "    if i == n - 1:\n",
    "        distribute.append(whole)\n",
    "    else:\n",
    "        std = 1 / (3 * (n - i))\n",
    "        loc = 1 / (n - i)\n",
    "        share = whole * np.clip(\n",
    "            np.random.normal(loc, std), 0.5 * loc, 1.5 * loc\n",
    "        )\n",
    "        distribute.append(share)\n",
    "        whole -= share"
   ]
  },
  {
   "cell_type": "code",
   "execution_count": 11,
   "metadata": {},
   "outputs": [
    {
     "data": {
      "text/plain": [
       "1.0"
      ]
     },
     "execution_count": 11,
     "metadata": {},
     "output_type": "execute_result"
    }
   ],
   "source": [
    "sum(distribute)"
   ]
  },
  {
   "cell_type": "code",
   "execution_count": 13,
   "metadata": {},
   "outputs": [
    {
     "name": "stdout",
     "output_type": "stream",
     "text": [
      "test_beginning: 0.8671766649396547\n",
      "test_beginning: 0.8840518698771554\n",
      "test_beginning: 0.8630205074182805\n",
      "test_beginning: 0.7788230266790587\n",
      "test_beginning: 0.8572340617869869\n",
      "test_beginning: 0.7984081523995799\n",
      "test_beginning: 0.8690972673406228\n",
      "test_beginning: 0.871820143181516\n",
      "test_beginning: 0.85822826480092\n",
      "test_beginning: 0.8521400415762252\n"
     ]
    }
   ],
   "source": [
    "train_list, valid_list, test_list = [], [], []\n",
    "for i, asset in enumerate(assets):\n",
    "    test_beginning = 1.0 - distribute[i] * ratio[2] * n\n",
    "    print(f'test_beginning: {test_beginning}')\n",
    "    valid_beginning = test_beginning - ratio[1]\n",
    "    test_beginning = int(test_beginning * len(asset))\n",
    "    valid_beginning = int(valid_beginning * len(asset))\n",
    "    train_list.append(asset[:valid_beginning])\n",
    "    valid_list.append(asset[valid_beginning:test_beginning])\n",
    "    test_list.append(asset[test_beginning:])"
   ]
  },
  {
   "cell_type": "code",
   "execution_count": 63,
   "metadata": {},
   "outputs": [
    {
     "data": {
      "text/plain": [
       "array([7, 8, 9])"
      ]
     },
     "execution_count": 63,
     "metadata": {},
     "output_type": "execute_result"
    }
   ],
   "source": [
    "a[7:]"
   ]
  },
  {
   "cell_type": "code",
   "execution_count": 3,
   "metadata": {},
   "outputs": [],
   "source": [
    "assets = []\n",
    "for i in range(10):\n",
    "    assets.append(np.array(range(int(np.random.normal(1000, 200)))))"
   ]
  },
  {
   "cell_type": "code",
   "execution_count": 4,
   "metadata": {},
   "outputs": [],
   "source": [
    "train, valid, test = train_validation_test_split(assets)"
   ]
  },
  {
   "cell_type": "code",
   "execution_count": 5,
   "metadata": {},
   "outputs": [
    {
     "name": "stdout",
     "output_type": "stream",
     "text": [
      "0.6996802939449093\n",
      "0.1498429264365997\n",
      "0.1504767796184909\n"
     ]
    }
   ],
   "source": [
    "t, v, tt = [], [], []\n",
    "for a, b, c in zip(train, valid, test):\n",
    "    t.append(len(a) / (len(a)+len(b)+len(c)))\n",
    "    v.append(len(b) / (len(a)+len(b)+len(c)))\n",
    "    tt.append(len(c) / (len(a)+len(b)+len(c)))\n",
    "    \n",
    "print(np.mean(t))\n",
    "print(np.mean(v))\n",
    "print(np.mean(tt))"
   ]
  },
  {
   "cell_type": "code",
   "execution_count": 6,
   "metadata": {},
   "outputs": [
    {
     "data": {
      "text/html": [
       "<div>\n",
       "<style scoped>\n",
       "    .dataframe tbody tr th:only-of-type {\n",
       "        vertical-align: middle;\n",
       "    }\n",
       "\n",
       "    .dataframe tbody tr th {\n",
       "        vertical-align: top;\n",
       "    }\n",
       "\n",
       "    .dataframe thead th {\n",
       "        text-align: right;\n",
       "    }\n",
       "</style>\n",
       "<table border=\"1\" class=\"dataframe\">\n",
       "  <thead>\n",
       "    <tr style=\"text-align: right;\">\n",
       "      <th></th>\n",
       "      <th>close</th>\n",
       "      <th>high</th>\n",
       "      <th>low</th>\n",
       "      <th>open</th>\n",
       "      <th>volume</th>\n",
       "    </tr>\n",
       "  </thead>\n",
       "  <tbody>\n",
       "    <tr>\n",
       "      <th>0</th>\n",
       "      <td>125.430000</td>\n",
       "      <td>128.000000</td>\n",
       "      <td>125.210000</td>\n",
       "      <td>127.820000</td>\n",
       "      <td>79388743.0</td>\n",
       "    </tr>\n",
       "    <tr>\n",
       "      <th>1</th>\n",
       "      <td>127.310000</td>\n",
       "      <td>127.720000</td>\n",
       "      <td>125.100000</td>\n",
       "      <td>125.230000</td>\n",
       "      <td>73359943.0</td>\n",
       "    </tr>\n",
       "    <tr>\n",
       "      <th>2</th>\n",
       "      <td>124.690000</td>\n",
       "      <td>124.920000</td>\n",
       "      <td>122.880000</td>\n",
       "      <td>123.160000</td>\n",
       "      <td>86428018.0</td>\n",
       "    </tr>\n",
       "    <tr>\n",
       "      <th>3</th>\n",
       "      <td>124.850000</td>\n",
       "      <td>126.990000</td>\n",
       "      <td>124.780000</td>\n",
       "      <td>126.560000</td>\n",
       "      <td>60196256.0</td>\n",
       "    </tr>\n",
       "    <tr>\n",
       "      <th>4</th>\n",
       "      <td>126.270000</td>\n",
       "      <td>126.920000</td>\n",
       "      <td>125.170000</td>\n",
       "      <td>126.820000</td>\n",
       "      <td>68472910.0</td>\n",
       "    </tr>\n",
       "    <tr>\n",
       "      <th>...</th>\n",
       "      <td>...</td>\n",
       "      <td>...</td>\n",
       "      <td>...</td>\n",
       "      <td>...</td>\n",
       "      <td>...</td>\n",
       "    </tr>\n",
       "    <tr>\n",
       "      <th>1254</th>\n",
       "      <td>25.087500</td>\n",
       "      <td>25.117500</td>\n",
       "      <td>24.812500</td>\n",
       "      <td>24.860001</td>\n",
       "      <td>145364800.0</td>\n",
       "    </tr>\n",
       "    <tr>\n",
       "      <th>1255</th>\n",
       "      <td>25.102501</td>\n",
       "      <td>25.182501</td>\n",
       "      <td>24.660000</td>\n",
       "      <td>24.920000</td>\n",
       "      <td>225324800.0</td>\n",
       "    </tr>\n",
       "    <tr>\n",
       "      <th>1256</th>\n",
       "      <td>24.905001</td>\n",
       "      <td>24.934999</td>\n",
       "      <td>24.527500</td>\n",
       "      <td>24.667500</td>\n",
       "      <td>152675200.0</td>\n",
       "    </tr>\n",
       "    <tr>\n",
       "      <th>1257</th>\n",
       "      <td>24.475000</td>\n",
       "      <td>24.522499</td>\n",
       "      <td>24.209999</td>\n",
       "      <td>24.305000</td>\n",
       "      <td>140560800.0</td>\n",
       "    </tr>\n",
       "    <tr>\n",
       "      <th>1258</th>\n",
       "      <td>24.107500</td>\n",
       "      <td>24.297501</td>\n",
       "      <td>23.917500</td>\n",
       "      <td>23.967501</td>\n",
       "      <td>152074400.0</td>\n",
       "    </tr>\n",
       "  </tbody>\n",
       "</table>\n",
       "<p>1259 rows × 5 columns</p>\n",
       "</div>"
      ],
      "text/plain": [
       "           close        high         low        open       volume\n",
       "0     125.430000  128.000000  125.210000  127.820000   79388743.0\n",
       "1     127.310000  127.720000  125.100000  125.230000   73359943.0\n",
       "2     124.690000  124.920000  122.880000  123.160000   86428018.0\n",
       "3     124.850000  126.990000  124.780000  126.560000   60196256.0\n",
       "4     126.270000  126.920000  125.170000  126.820000   68472910.0\n",
       "...          ...         ...         ...         ...          ...\n",
       "1254   25.087500   25.117500   24.812500   24.860001  145364800.0\n",
       "1255   25.102501   25.182501   24.660000   24.920000  225324800.0\n",
       "1256   24.905001   24.934999   24.527500   24.667500  152675200.0\n",
       "1257   24.475000   24.522499   24.209999   24.305000  140560800.0\n",
       "1258   24.107500   24.297501   23.917500   23.967501  152074400.0\n",
       "\n",
       "[1259 rows x 5 columns]"
      ]
     },
     "execution_count": 6,
     "metadata": {},
     "output_type": "execute_result"
    }
   ],
   "source": [
    "stock_data['high_relative_increase_close'] = "
   ]
  }
 ],
 "metadata": {
  "kernelspec": {
   "display_name": "Python 3",
   "language": "python",
   "name": "python3"
  },
  "language_info": {
   "codemirror_mode": {
    "name": "ipython",
    "version": 3
   },
   "file_extension": ".py",
   "mimetype": "text/x-python",
   "name": "python",
   "nbconvert_exporter": "python",
   "pygments_lexer": "ipython3",
   "version": "3.8.10"
  }
 },
 "nbformat": 4,
 "nbformat_minor": 1
}